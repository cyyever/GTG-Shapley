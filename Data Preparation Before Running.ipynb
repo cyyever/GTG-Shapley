{
 "cells": [
  {
   "cell_type": "code",
   "execution_count": 1,
   "metadata": {},
   "outputs": [],
   "source": [
    "import torch\n",
    "import torch.nn as nn\n",
    "import torch.nn.functional as F\n",
    "import torch.optim as optim\n",
    "from torchvision import datasets, transforms\n",
    "import helper\n",
    "import matplotlib.pyplot as plt\n",
    "import numpy as np\n",
    "import copy\n",
    "import random"
   ]
  },
  {
   "cell_type": "code",
   "execution_count": 3,
   "metadata": {},
   "outputs": [],
   "source": [
    "data_dir='Apps/data/'"
   ]
  },
  {
   "cell_type": "code",
   "execution_count": 4,
   "metadata": {},
   "outputs": [
    {
     "name": "stderr",
     "output_type": "stream",
     "text": [
      "\r",
      "0it [00:00, ?it/s]"
     ]
    },
    {
     "name": "stdout",
     "output_type": "stream",
     "text": [
      "Downloading http://yann.lecun.com/exdb/mnist/train-images-idx3-ubyte.gz to Apps/data/mnist/MNIST/raw/train-images-idx3-ubyte.gz\n"
     ]
    },
    {
     "name": "stderr",
     "output_type": "stream",
     "text": [
      "100%|█████████▉| 9912320/9912422 [04:50<00:00, 24284.20it/s]"
     ]
    },
    {
     "name": "stdout",
     "output_type": "stream",
     "text": [
      "Extracting Apps/data/mnist/MNIST/raw/train-images-idx3-ubyte.gz to Apps/data/mnist/MNIST/raw\n"
     ]
    },
    {
     "name": "stderr",
     "output_type": "stream",
     "text": [
      "\n",
      "0it [00:00, ?it/s]\u001b[A"
     ]
    },
    {
     "name": "stdout",
     "output_type": "stream",
     "text": [
      "Downloading http://yann.lecun.com/exdb/mnist/train-labels-idx1-ubyte.gz to Apps/data/mnist/MNIST/raw/train-labels-idx1-ubyte.gz\n"
     ]
    },
    {
     "name": "stderr",
     "output_type": "stream",
     "text": [
      "\n",
      "  0%|          | 0/28881 [00:00<?, ?it/s]\u001b[A\n",
      "32768it [00:00, 46615.98it/s]                            \u001b[A\n",
      "\n",
      "0it [00:00, ?it/s]\u001b[A"
     ]
    },
    {
     "name": "stdout",
     "output_type": "stream",
     "text": [
      "Extracting Apps/data/mnist/MNIST/raw/train-labels-idx1-ubyte.gz to Apps/data/mnist/MNIST/raw\n",
      "Downloading http://yann.lecun.com/exdb/mnist/t10k-images-idx3-ubyte.gz to Apps/data/mnist/MNIST/raw/t10k-images-idx3-ubyte.gz\n"
     ]
    },
    {
     "name": "stderr",
     "output_type": "stream",
     "text": [
      "\n",
      "  0%|          | 0/1648877 [00:00<?, ?it/s]\u001b[A\n",
      "  1%|          | 16384/1648877 [00:00<00:19, 85693.47it/s]\u001b[A\n",
      "  1%|▏         | 24576/1648877 [00:01<00:33, 48507.96it/s]\u001b[A\n",
      "  2%|▏         | 32768/1648877 [00:01<00:33, 47670.40it/s]\u001b[A\n",
      "  2%|▏         | 40960/1648877 [00:01<00:43, 36974.72it/s]\u001b[A\n",
      "  3%|▎         | 49152/1648877 [00:01<00:38, 41481.79it/s]\u001b[A\n",
      "  3%|▎         | 57344/1648877 [00:02<00:42, 37808.59it/s]\u001b[A\n",
      "  4%|▍         | 65536/1648877 [00:02<00:48, 32748.28it/s]\u001b[A\n",
      "  4%|▍         | 73728/1648877 [00:02<00:44, 35721.12it/s]\u001b[A\n",
      "  5%|▍         | 81920/1648877 [00:02<00:50, 31257.95it/s]\u001b[A\n",
      "  5%|▌         | 90112/1648877 [00:03<00:45, 34473.36it/s]\u001b[A\n",
      "  6%|▌         | 98304/1648877 [00:03<00:50, 30442.47it/s]\u001b[A\n",
      "  6%|▋         | 106496/1648877 [00:03<00:44, 34472.69it/s]\u001b[A\n",
      "  7%|▋         | 114688/1648877 [00:03<00:51, 29945.39it/s]\u001b[A\n",
      "  7%|▋         | 122880/1648877 [00:04<00:44, 34406.15it/s]\u001b[A\n",
      "  8%|▊         | 131072/1648877 [00:04<00:45, 33322.98it/s]\u001b[A\n",
      "  8%|▊         | 139264/1648877 [00:04<00:49, 30805.20it/s]\u001b[A\n",
      "  9%|▉         | 147456/1648877 [00:04<00:44, 33597.95it/s]\u001b[A\n",
      "  9%|▉         | 155648/1648877 [00:05<00:49, 30218.73it/s]\u001b[A\n",
      " 10%|▉         | 163840/1648877 [00:05<00:45, 32625.56it/s]\u001b[A\n",
      " 10%|█         | 172032/1648877 [00:05<00:48, 30406.08it/s]\u001b[A\n",
      " 11%|█         | 180224/1648877 [00:05<00:43, 34007.03it/s]\u001b[A\n",
      " 11%|█▏        | 188416/1648877 [00:06<00:54, 26736.93it/s]\u001b[A\n",
      " 12%|█▏        | 204800/1648877 [00:06<00:48, 29662.70it/s]\u001b[A\n",
      " 13%|█▎        | 212992/1648877 [00:06<00:42, 33978.83it/s]\u001b[A\n",
      " 13%|█▎        | 221184/1648877 [00:07<00:48, 29604.95it/s]\u001b[A\n",
      " 14%|█▍        | 229376/1648877 [00:07<00:44, 31792.73it/s]\u001b[A\n",
      " 14%|█▍        | 237568/1648877 [00:07<00:41, 34314.79it/s]\u001b[A\n",
      " 15%|█▍        | 245760/1648877 [00:07<00:45, 30905.36it/s]\u001b[A\n",
      " 15%|█▌        | 253952/1648877 [00:08<00:41, 33900.33it/s]\u001b[A\n",
      " 16%|█▌        | 262144/1648877 [00:08<00:45, 30343.74it/s]\u001b[A\n",
      " 16%|█▋        | 270336/1648877 [00:08<00:40, 33854.29it/s]\u001b[A\n",
      " 17%|█▋        | 278528/1648877 [00:08<00:41, 33240.01it/s]\u001b[A\n",
      " 17%|█▋        | 286720/1648877 [00:09<00:43, 31312.93it/s]\u001b[A\n",
      " 18%|█▊        | 294912/1648877 [00:09<00:41, 32771.24it/s]\u001b[A\n",
      " 18%|█▊        | 303104/1648877 [00:09<00:43, 30953.84it/s]\u001b[A\n",
      " 19%|█▉        | 311296/1648877 [00:09<00:40, 32653.09it/s]\u001b[A\n",
      " 19%|█▉        | 319488/1648877 [00:10<00:40, 32853.32it/s]\u001b[A\n",
      " 20%|█▉        | 327680/1648877 [00:10<00:41, 31984.62it/s]\u001b[A\n",
      " 20%|██        | 335872/1648877 [00:10<00:43, 30114.79it/s]\u001b[A\n",
      " 21%|██        | 344064/1648877 [00:11<00:39, 33270.87it/s]\u001b[A\n",
      " 21%|██▏       | 352256/1648877 [00:11<00:43, 29870.07it/s]\u001b[A\n",
      " 22%|██▏       | 360448/1648877 [00:11<00:38, 33555.30it/s]\u001b[A\n",
      " 22%|██▏       | 368640/1648877 [00:11<00:42, 29914.73it/s]\u001b[A\n",
      " 23%|██▎       | 376832/1648877 [00:12<00:37, 33531.21it/s]\u001b[A\n",
      " 23%|██▎       | 385024/1648877 [00:12<00:42, 29770.60it/s]\u001b[A\n",
      " 24%|██▍       | 393216/1648877 [00:12<00:36, 34146.13it/s]\u001b[A\n",
      " 24%|██▍       | 401408/1648877 [00:12<00:37, 33287.57it/s]\u001b[A\n",
      " 25%|██▍       | 409600/1648877 [00:13<00:37, 33106.68it/s]\u001b[A\n",
      " 25%|██▌       | 417792/1648877 [00:13<00:38, 32192.04it/s]\u001b[A\n",
      " 26%|██▌       | 425984/1648877 [00:13<00:37, 32558.87it/s]\u001b[A\n",
      " 26%|██▋       | 434176/1648877 [00:13<00:37, 32308.15it/s]\u001b[A\n",
      " 27%|██▋       | 442368/1648877 [00:14<00:40, 29455.19it/s]\u001b[A\n",
      " 27%|██▋       | 450560/1648877 [00:14<00:36, 33166.15it/s]\u001b[A\n",
      " 28%|██▊       | 458752/1648877 [00:14<00:36, 32777.47it/s]\u001b[A\n",
      " 28%|██▊       | 466944/1648877 [00:14<00:38, 31011.56it/s]\u001b[A\n",
      " 29%|██▉       | 475136/1648877 [00:15<00:40, 29160.03it/s]\u001b[A\n",
      " 29%|██▉       | 483328/1648877 [00:15<00:34, 33538.85it/s]\u001b[A\n",
      " 30%|██▉       | 491520/1648877 [00:15<00:34, 33204.71it/s]\u001b[A\n",
      " 30%|███       | 499712/1648877 [00:15<00:33, 34747.88it/s]\u001b[A\n",
      " 31%|███       | 507904/1648877 [00:16<00:31, 36124.23it/s]\u001b[A\n",
      " 31%|███▏      | 516096/1648877 [00:16<00:35, 32335.59it/s]\u001b[A\n",
      " 32%|███▏      | 524288/1648877 [00:16<00:30, 36285.32it/s]\u001b[A\n",
      " 32%|███▏      | 532480/1648877 [00:16<00:32, 34869.17it/s]\u001b[A\n",
      " 33%|███▎      | 540672/1648877 [00:17<00:34, 31698.04it/s]\u001b[A\n",
      " 33%|███▎      | 548864/1648877 [00:17<00:31, 34694.53it/s]\u001b[A\n",
      " 34%|███▍      | 557056/1648877 [00:17<00:35, 30718.83it/s]\u001b[A\n",
      " 34%|███▍      | 565248/1648877 [00:17<00:32, 32852.11it/s]\u001b[A\n",
      " 35%|███▍      | 573440/1648877 [00:18<00:35, 30272.50it/s]\u001b[A\n",
      "9920512it [05:10, 24284.20it/s]                             [A\n",
      " 36%|███▌      | 589824/1648877 [00:18<00:35, 30058.41it/s]\u001b[A\n",
      " 36%|███▋      | 598016/1648877 [00:18<00:30, 34393.07it/s]\u001b[A\n",
      " 37%|███▋      | 606208/1648877 [00:19<00:35, 29617.42it/s]\u001b[A\n",
      " 37%|███▋      | 614400/1648877 [00:19<00:30, 34173.20it/s]\u001b[A\n",
      " 38%|███▊      | 622592/1648877 [00:19<00:30, 33516.55it/s]\u001b[A\n",
      " 38%|███▊      | 630784/1648877 [00:19<00:30, 33310.56it/s]\u001b[A\n",
      " 39%|███▉      | 638976/1648877 [00:20<00:31, 31924.37it/s]\u001b[A\n",
      " 39%|███▉      | 647168/1648877 [00:20<00:33, 30017.51it/s]\u001b[A\n",
      " 40%|███▉      | 655360/1648877 [00:20<00:29, 33621.53it/s]\u001b[A\n",
      " 40%|████      | 663552/1648877 [00:21<00:36, 26741.32it/s]\u001b[A\n",
      " 41%|████      | 679936/1648877 [00:21<00:32, 29585.27it/s]\u001b[A\n",
      " 42%|████▏     | 688128/1648877 [00:21<00:28, 34073.53it/s]\u001b[A\n",
      " 42%|████▏     | 696320/1648877 [00:21<00:28, 33161.34it/s]\u001b[A\n",
      " 43%|████▎     | 704512/1648877 [00:22<00:31, 30462.44it/s]\u001b[A\n",
      " 43%|████▎     | 712704/1648877 [00:22<00:31, 29780.47it/s]\u001b[A\n",
      " 44%|████▎     | 720896/1648877 [00:22<00:27, 34259.40it/s]\u001b[A\n",
      " 44%|████▍     | 729088/1648877 [00:22<00:27, 33120.01it/s]\u001b[A\n",
      " 45%|████▍     | 737280/1648877 [00:23<00:30, 30181.33it/s]\u001b[A\n",
      " 45%|████▌     | 745472/1648877 [00:23<00:26, 33807.16it/s]\u001b[A\n",
      " 46%|████▌     | 753664/1648877 [00:23<00:26, 33198.47it/s]\u001b[A\n",
      " 46%|████▌     | 761856/1648877 [00:24<00:31, 27866.52it/s]\u001b[A\n",
      " 47%|████▋     | 770048/1648877 [00:24<00:25, 34290.88it/s]\u001b[A\n",
      " 47%|████▋     | 778240/1648877 [00:24<00:27, 31557.76it/s]\u001b[A\n",
      " 48%|████▊     | 786432/1648877 [00:24<00:25, 33817.55it/s]\u001b[A\n",
      " 48%|████▊     | 794624/1648877 [00:25<00:27, 30647.59it/s]\u001b[A\n",
      " 49%|████▊     | 802816/1648877 [00:25<00:25, 32786.96it/s]\u001b[A\n",
      " 49%|████▉     | 811008/1648877 [00:25<00:27, 30698.89it/s]\u001b[A\n",
      " 50%|████▉     | 819200/1648877 [00:25<00:24, 34450.15it/s]\u001b[A\n",
      " 50%|█████     | 827392/1648877 [00:25<00:24, 34026.19it/s]\u001b[A\n",
      " 51%|█████     | 835584/1648877 [00:26<00:26, 31124.84it/s]\u001b[A\n",
      " 51%|█████     | 843776/1648877 [00:26<00:22, 35403.20it/s]\u001b[A\n",
      " 52%|█████▏    | 851968/1648877 [00:26<00:26, 30183.33it/s]\u001b[A\n",
      " 52%|█████▏    | 860160/1648877 [00:26<00:22, 34802.96it/s]\u001b[A\n",
      " 53%|█████▎    | 868352/1648877 [00:27<00:23, 33472.98it/s]\u001b[A\n",
      " 53%|█████▎    | 876544/1648877 [00:27<00:24, 30942.68it/s]\u001b[A\n",
      " 54%|█████▎    | 884736/1648877 [00:27<00:22, 33836.78it/s]\u001b[A\n",
      " 54%|█████▍    | 892928/1648877 [00:28<00:24, 30383.52it/s]\u001b[A\n",
      " 55%|█████▍    | 901120/1648877 [00:28<00:22, 33722.42it/s]\u001b[A\n",
      " 55%|█████▌    | 909312/1648877 [00:28<00:27, 26986.08it/s]\u001b[A\n",
      " 56%|█████▌    | 925696/1648877 [00:29<00:24, 29704.56it/s]\u001b[A\n",
      " 57%|█████▋    | 933888/1648877 [00:29<00:21, 33718.15it/s]\u001b[A\n",
      " 57%|█████▋    | 942080/1648877 [00:29<00:23, 29725.11it/s]\u001b[A\n",
      " 58%|█████▊    | 950272/1648877 [00:29<00:20, 34176.61it/s]\u001b[A\n",
      " 58%|█████▊    | 958464/1648877 [00:30<00:23, 29504.33it/s]\u001b[A\n",
      " 59%|█████▊    | 966656/1648877 [00:30<00:19, 34607.16it/s]\u001b[A\n",
      " 59%|█████▉    | 974848/1648877 [00:30<00:20, 32942.84it/s]\u001b[A\n",
      " 60%|█████▉    | 983040/1648877 [00:30<00:21, 30552.97it/s]\u001b[A\n",
      " 60%|██████    | 991232/1648877 [00:31<00:19, 33698.03it/s]\u001b[A\n",
      " 61%|██████    | 999424/1648877 [00:31<00:21, 30185.18it/s]\u001b[A\n",
      " 61%|██████    | 1007616/1648877 [00:31<00:19, 32435.12it/s]\u001b[A\n",
      " 62%|██████▏   | 1015808/1648877 [00:31<00:20, 30251.43it/s]\u001b[A\n",
      " 62%|██████▏   | 1024000/1648877 [00:32<00:18, 34370.01it/s]\u001b[A\n",
      " 63%|██████▎   | 1032192/1648877 [00:32<00:20, 29819.27it/s]\u001b[A\n",
      " 63%|██████▎   | 1040384/1648877 [00:32<00:18, 32122.83it/s]\u001b[A\n",
      " 64%|██████▎   | 1048576/1648877 [00:32<00:20, 29870.99it/s]\u001b[A\n",
      " 64%|██████▍   | 1056768/1648877 [00:33<00:16, 35055.24it/s]\u001b[A\n",
      " 65%|██████▍   | 1064960/1648877 [00:33<00:17, 33372.29it/s]\u001b[A\n",
      " 65%|██████▌   | 1073152/1648877 [00:33<00:18, 30824.73it/s]\u001b[A\n",
      " 66%|██████▌   | 1081344/1648877 [00:33<00:16, 34132.01it/s]\u001b[A\n",
      " 66%|██████▌   | 1089536/1648877 [00:34<00:18, 30248.27it/s]\u001b[A\n"
     ]
    },
    {
     "name": "stderr",
     "output_type": "stream",
     "text": [
      " 67%|██████▋   | 1097728/1648877 [00:34<00:16, 32477.55it/s]\u001b[A\n",
      " 67%|██████▋   | 1105920/1648877 [00:34<00:17, 30215.67it/s]\u001b[A\n",
      " 68%|██████▊   | 1114112/1648877 [00:34<00:15, 34313.49it/s]\u001b[A\n",
      " 68%|██████▊   | 1122304/1648877 [00:35<00:15, 33725.56it/s]\u001b[A\n",
      " 69%|██████▊   | 1130496/1648877 [00:35<00:16, 31012.93it/s]\u001b[A\n",
      " 69%|██████▉   | 1138688/1648877 [00:35<00:15, 33062.60it/s]\u001b[A\n",
      " 70%|██████▉   | 1146880/1648877 [00:35<00:16, 30418.39it/s]\u001b[A\n",
      " 70%|███████   | 1155072/1648877 [00:36<00:14, 33397.30it/s]\u001b[A\n",
      " 71%|███████   | 1163264/1648877 [00:36<00:16, 30338.42it/s]\u001b[A\n",
      " 71%|███████   | 1171456/1648877 [00:36<00:14, 31833.10it/s]\u001b[A\n",
      " 72%|███████▏  | 1179648/1648877 [00:36<00:14, 33287.04it/s]\u001b[A\n",
      " 72%|███████▏  | 1187840/1648877 [00:37<00:14, 31791.48it/s]\u001b[A\n",
      " 73%|███████▎  | 1196032/1648877 [00:37<00:15, 29958.68it/s]\u001b[A\n",
      " 73%|███████▎  | 1204224/1648877 [00:37<00:13, 32124.00it/s]\u001b[A\n",
      " 74%|███████▎  | 1212416/1648877 [00:38<00:14, 29993.37it/s]\u001b[A\n",
      " 74%|███████▍  | 1220608/1648877 [00:38<00:12, 34475.09it/s]\u001b[A\n",
      " 75%|███████▍  | 1228800/1648877 [00:38<00:12, 33620.55it/s]\u001b[A\n",
      " 75%|███████▌  | 1236992/1648877 [00:38<00:13, 30935.19it/s]\u001b[A\n",
      " 76%|███████▌  | 1245184/1648877 [00:38<00:11, 35821.80it/s]\u001b[A\n",
      " 76%|███████▌  | 1253376/1648877 [00:39<00:11, 33834.23it/s]\u001b[A\n",
      " 77%|███████▋  | 1261568/1648877 [00:39<00:12, 31121.11it/s]\u001b[A\n",
      " 77%|███████▋  | 1269760/1648877 [00:39<00:11, 33139.42it/s]\u001b[A\n",
      " 78%|███████▊  | 1277952/1648877 [00:39<00:10, 34766.46it/s]\u001b[A\n",
      " 78%|███████▊  | 1286144/1648877 [00:40<00:09, 36668.19it/s]\u001b[A\n",
      " 78%|███████▊  | 1294336/1648877 [00:40<00:11, 32203.14it/s]\u001b[A\n",
      " 79%|███████▉  | 1302528/1648877 [00:40<00:09, 36322.33it/s]\u001b[A\n",
      " 79%|███████▉  | 1310720/1648877 [00:40<00:09, 34695.75it/s]\u001b[A\n",
      " 80%|███████▉  | 1318912/1648877 [00:41<00:09, 34858.41it/s]\u001b[A\n",
      " 80%|████████  | 1327104/1648877 [00:41<00:09, 33858.67it/s]\u001b[A\n",
      " 81%|████████  | 1335296/1648877 [00:41<00:09, 33338.31it/s]\u001b[A\n",
      " 81%|████████▏ | 1343488/1648877 [00:41<00:09, 32766.82it/s]\u001b[A\n",
      " 82%|████████▏ | 1351680/1648877 [00:42<00:09, 32478.91it/s]\u001b[A\n",
      " 82%|████████▏ | 1359872/1648877 [00:42<00:08, 32465.90it/s]\u001b[A\n",
      " 83%|████████▎ | 1368064/1648877 [00:42<00:08, 32060.03it/s]\u001b[A\n",
      " 83%|████████▎ | 1376256/1648877 [00:42<00:08, 32241.30it/s]\u001b[A\n",
      " 84%|████████▍ | 1384448/1648877 [00:43<00:08, 32063.38it/s]\u001b[A\n",
      " 84%|████████▍ | 1392640/1648877 [00:43<00:08, 31994.10it/s]\u001b[A\n",
      " 85%|████████▍ | 1400832/1648877 [00:43<00:07, 32002.36it/s]\u001b[A\n",
      " 85%|████████▌ | 1409024/1648877 [00:43<00:07, 31780.90it/s]\u001b[A\n",
      " 86%|████████▌ | 1417216/1648877 [00:44<00:07, 32025.68it/s]\u001b[A\n",
      " 86%|████████▋ | 1425408/1648877 [00:44<00:07, 31915.66it/s]\u001b[A\n",
      " 87%|████████▋ | 1433600/1648877 [00:44<00:06, 32025.23it/s]\u001b[A\n",
      " 87%|████████▋ | 1441792/1648877 [00:44<00:06, 32036.06it/s]\u001b[A\n",
      " 88%|████████▊ | 1449984/1648877 [00:45<00:06, 31804.73it/s]\u001b[A\n",
      " 88%|████████▊ | 1458176/1648877 [00:45<00:06, 31261.58it/s]\u001b[A\n",
      " 89%|████████▉ | 1466368/1648877 [00:45<00:05, 32324.20it/s]\u001b[A\n",
      " 89%|████████▉ | 1474560/1648877 [00:46<00:05, 32188.87it/s]\u001b[A\n",
      " 90%|████████▉ | 1482752/1648877 [00:46<00:05, 32162.37it/s]\u001b[A\n",
      " 90%|█████████ | 1490944/1648877 [00:46<00:04, 32012.32it/s]\u001b[A\n",
      " 91%|█████████ | 1499136/1648877 [00:46<00:04, 32079.58it/s]\u001b[A\n",
      " 91%|█████████▏| 1507328/1648877 [00:47<00:04, 31940.41it/s]\u001b[A\n",
      " 92%|█████████▏| 1515520/1648877 [00:47<00:04, 31692.28it/s]\u001b[A\n",
      " 92%|█████████▏| 1523712/1648877 [00:47<00:03, 31802.96it/s]\u001b[A\n",
      " 93%|█████████▎| 1531904/1648877 [00:47<00:03, 31615.58it/s]\u001b[A\n",
      " 93%|█████████▎| 1540096/1648877 [00:48<00:03, 31902.26it/s]\u001b[A\n",
      " 94%|█████████▍| 1548288/1648877 [00:48<00:03, 32042.89it/s]\u001b[A\n",
      " 94%|█████████▍| 1556480/1648877 [00:48<00:02, 31985.03it/s]\u001b[A\n",
      " 95%|█████████▍| 1564672/1648877 [00:48<00:02, 33451.67it/s]\u001b[A\n",
      " 95%|█████████▌| 1572864/1648877 [00:49<00:02, 33016.13it/s]\u001b[A\n",
      " 96%|█████████▌| 1581056/1648877 [00:49<00:02, 33529.81it/s]\u001b[A\n",
      " 96%|█████████▋| 1589248/1648877 [00:49<00:01, 32834.01it/s]\u001b[A\n",
      " 97%|█████████▋| 1597440/1648877 [00:49<00:01, 33218.60it/s]\u001b[A\n",
      " 97%|█████████▋| 1605632/1648877 [00:49<00:01, 34778.33it/s]\u001b[A\n",
      " 98%|█████████▊| 1613824/1648877 [00:50<00:01, 34337.14it/s]\u001b[A\n",
      " 98%|█████████▊| 1622016/1648877 [00:50<00:00, 35274.37it/s]\u001b[A\n",
      " 99%|█████████▉| 1630208/1648877 [00:50<00:00, 35591.68it/s]\u001b[A\n",
      " 99%|█████████▉| 1638400/1648877 [00:50<00:00, 35632.84it/s]\u001b[A\n",
      "100%|█████████▉| 1646592/1648877 [00:51<00:00, 35976.88it/s]\u001b[A\n",
      "1654784it [00:51, 32765.73it/s]                             \u001b[A\n",
      "\n",
      "0it [00:00, ?it/s]\u001b[A\u001b[A"
     ]
    },
    {
     "name": "stdout",
     "output_type": "stream",
     "text": [
      "Extracting Apps/data/mnist/MNIST/raw/t10k-images-idx3-ubyte.gz to Apps/data/mnist/MNIST/raw\n",
      "Downloading http://yann.lecun.com/exdb/mnist/t10k-labels-idx1-ubyte.gz to Apps/data/mnist/MNIST/raw/t10k-labels-idx1-ubyte.gz\n"
     ]
    },
    {
     "name": "stderr",
     "output_type": "stream",
     "text": [
      "\n",
      "\n",
      "8192it [00:00, 16950.84it/s]            \u001b[A\u001b[A"
     ]
    },
    {
     "name": "stdout",
     "output_type": "stream",
     "text": [
      "Extracting Apps/data/mnist/MNIST/raw/t10k-labels-idx1-ubyte.gz to Apps/data/mnist/MNIST/raw\n",
      "Processing...\n",
      "Done!\n"
     ]
    },
    {
     "name": "stderr",
     "output_type": "stream",
     "text": [
      "\n",
      "\n",
      "1654784it [01:08, 32765.73it/s]\u001b[A"
     ]
    }
   ],
   "source": [
    "# Define a transform to normalize the data\n",
    "transform = transforms.Compose([transforms.ToTensor(),\n",
    "                                transforms.Normalize((0.5,), (0.5,))\n",
    "                              ])\n",
    "# Download and load the training data\n",
    "trainset = datasets.MNIST(data_dir+'mnist', download=True, train=True, transform=transform)\n",
    "testset = datasets.MNIST(data_dir+'mnist', download=True, train=False, transform=transform)\n",
    "trainloader = torch.utils.data.DataLoader(trainset, batch_size=64, shuffle=True)"
   ]
  },
  {
   "cell_type": "markdown",
   "metadata": {},
   "source": [
    "# Prepare Dataset"
   ]
  },
  {
   "cell_type": "markdown",
   "metadata": {},
   "source": [
    "## 1. same distribution with same size: split into 5 parts"
   ]
  },
  {
   "cell_type": "code",
   "execution_count": 11,
   "metadata": {},
   "outputs": [],
   "source": [
    "datad={'trainset_'+str(i):[]   for i in range(10)}\n",
    "\n",
    "for d in trainset:\n",
    "    datad['trainset_'+str(d[1])].append(d)"
   ]
  },
  {
   "cell_type": "code",
   "execution_count": 16,
   "metadata": {},
   "outputs": [],
   "source": [
    "dict1={}\n",
    "for k in range(5):\n",
    "    si=1084*k\n",
    "    ei=1084*(k+1)\n",
    "    dict1['trainset_1_'+str(k+1)] = []\n",
    "    for i in range(10):\n",
    "        dict1['trainset_1_'+str(k+1)].extend(datad['trainset_'+str(i)][si:ei])"
   ]
  },
  {
   "cell_type": "markdown",
   "metadata": {},
   "source": [
    "## 2. different distribution with same size"
   ]
  },
  {
   "cell_type": "code",
   "execution_count": 45,
   "metadata": {},
   "outputs": [],
   "source": [
    "dict2={'trainset_2_'+str(i):[] for i in range(1,6)}\n",
    "\n",
    "ratio=0.8\n",
    "big_n=int(5420*ratio)\n",
    "small_n=round(5420*(1-ratio)/4)\n",
    "\n",
    "last_index={i:0 for i in range(10)}\n",
    "\n",
    "for i in range(1,6):\n",
    "    for j in range(10):\n",
    "        li=last_index[j]\n",
    "        if j<2*i and j>=2*(i-1):\n",
    "            dict2['trainset_2_'+str(i)].extend(datad['trainset_'+str(j)][li:li+big_n])\n",
    "            last_index[j]=li+big_n\n",
    "        else:\n",
    "            dict2['trainset_2_'+str(i)].extend(datad['trainset_'+str(j)][li:li+small_n])\n",
    "            last_index[j]=li+small_n\n"
   ]
  },
  {
   "cell_type": "markdown",
   "metadata": {},
   "source": [
    "## 3. same distribution different size"
   ]
  },
  {
   "cell_type": "code",
   "execution_count": 47,
   "metadata": {},
   "outputs": [
    {
     "name": "stdout",
     "output_type": "stream",
     "text": [
      "5420\n",
      "8130\n",
      "10840\n",
      "13550\n",
      "16260\n"
     ]
    }
   ],
   "source": [
    "dict3={'trainset_3_'+str(i):[] for i in range(1,6)}\n",
    "\n",
    "for i in range(10):\n",
    "  dict3['trainset_3_1'].extend(datad['trainset_'+str(i)][0:271*(2)])\n",
    "  dict3['trainset_3_2'].extend(datad['trainset_'+str(i)][271*(2):271*(5)])\n",
    "  dict3['trainset_3_3'].extend(datad['trainset_'+str(i)][271*(5):271*(9)])\n",
    "  dict3['trainset_3_4'].extend(datad['trainset_'+str(i)][271*(9):271*(14)])\n",
    "  dict3['trainset_3_5'].extend(datad['trainset_'+str(i)][271*(14):271*(20)])\n",
    "\n",
    "for i in range(5):\n",
    "  print(len(dict3['trainset_3_'+str(i+1)]))\n"
   ]
  },
  {
   "cell_type": "markdown",
   "metadata": {},
   "source": [
    "## 4. noisy label same size"
   ]
  },
  {
   "cell_type": "code",
   "execution_count": 50,
   "metadata": {},
   "outputs": [],
   "source": [
    "dict4={}\n",
    "for i in range(5):\n",
    "  dict4[\"trainset_4_\"+str(i+1)] = copy.deepcopy(dict1[\"trainset_1_\"+str(i+1)]) "
   ]
  },
  {
   "cell_type": "code",
   "execution_count": 51,
   "metadata": {},
   "outputs": [
    {
     "name": "stdout",
     "output_type": "stream",
     "text": [
      "For trainset_0, number of mislabelled data is:  0\n",
      "0\n",
      "Done 0\n",
      "For trainset_1, number of mislabelled data is:  542\n",
      "542\n",
      "Done 1\n",
      "For trainset_2, number of mislabelled data is:  1084\n",
      "1084\n",
      "Done 2\n",
      "For trainset_3, number of mislabelled data is:  1626\n",
      "1626\n",
      "Done 3\n",
      "For trainset_4, number of mislabelled data is:  2168\n",
      "2168\n",
      "Done 4\n"
     ]
    }
   ],
   "source": [
    "percentageMislabel = {\"trainset_4_1\": 0, \"trainset_4_2\": 0.05, \"trainset_4_3\": 0.10, \"trainset_4_4\": 0.15, \"trainset_4_5\": 0.20}\n",
    "\n",
    "for i in range(len(dict4)):\n",
    "  trainset_4_i = \"trainset_4_\" + str(i+1)\n",
    "  numMislabel = int(percentageMislabel[trainset_4_i] * len(dict4[trainset_4_i]))\n",
    "  print(\"For trainset_\" + str(i) + \", number of mislabelled data is: \", numMislabel)\n",
    "  indexesMislabel = random.sample(range(len(dict4[trainset_4_i])), numMislabel) # generate a random sample of indices without replacement)\n",
    "  print(len(indexesMislabel))\n",
    "\n",
    "  for k in indexesMislabel: \n",
    "    trueLabel = dict4[trainset_4_i][i][1]\n",
    "    possibleMislabel = [x for x in range(10) if x != trueLabel] # list of all the possible mislabels to choose from\n",
    "    dict4[trainset_4_i][k] = (dict4[trainset_4_i][k][0], random.choice(possibleMislabel)) # change the label for the k-th entry \n",
    "  print(\"Done\", i)\n",
    "    "
   ]
  },
  {
   "cell_type": "markdown",
   "metadata": {},
   "source": [
    "## 5. noisy feature same size"
   ]
  },
  {
   "cell_type": "code",
   "execution_count": 52,
   "metadata": {},
   "outputs": [],
   "source": [
    "dict5={}\n",
    "for i in range(5):\n",
    "  dict5[\"trainset_5_\"+str(i+1)] = copy.deepcopy(dict1[\"trainset_1_\"+str(i+1)]) "
   ]
  },
  {
   "cell_type": "code",
   "execution_count": 53,
   "metadata": {},
   "outputs": [],
   "source": [
    "percentageNoise = {\"trainset_5_2\": 0.25, \"trainset_5_3\": 0.5, \"trainset_5_4\": 0.75, \"trainset_5_5\": 1.0}\n",
    "\n",
    "for i in range(1, len(dict5)):\n",
    "  trainset_5_i = \"trainset_5_\" + str(i+1)\n",
    "  for index in range(len(dict5[trainset_5_i])):\n",
    "     dict5[trainset_5_i][index] = (dict5[trainset_5_i][index][0] + \\\n",
    "                                         torch.Tensor(np.random.normal(0.0, percentageNoise[trainset_5_i], (1,28,28))), \\\n",
    "                                         dict5[trainset_5_i][index][1])\n"
   ]
  },
  {
   "cell_type": "markdown",
   "metadata": {},
   "source": [
    "# store datasets"
   ]
  },
  {
   "cell_type": "code",
   "execution_count": 54,
   "metadata": {},
   "outputs": [],
   "source": [
    "import pickle\n",
    "\n",
    "base_dir='Apps/data/OurMNIST/'\n",
    "\n",
    "dictionary1File = open(base_dir+\"dictionary1.out\", \"wb\")\n",
    "pickle.dump(dict1, dictionary1File)\n",
    "dictionary1File.close()\n",
    "\n",
    "dictionary2File = open(base_dir+\"dictionary2.out\", \"wb\")\n",
    "pickle.dump(dict2, dictionary2File)\n",
    "dictionary2File.close()\n",
    "\n",
    "dictionary3File = open(base_dir+\"dictionary3.out\", \"wb\")\n",
    "pickle.dump(dict3, dictionary3File)\n",
    "dictionary3File.close()\n",
    "\n",
    "dictionary4File = open(base_dir+\"dictionary4.out\", \"wb\")\n",
    "pickle.dump(dict4, dictionary4File)\n",
    "dictionary4File.close()\n",
    "\n",
    "dictionary5File = open(base_dir+\"dictionary5.out\", \"wb\")\n",
    "pickle.dump(dict5, dictionary5File)\n",
    "dictionary5File.close()"
   ]
  },
  {
   "cell_type": "code",
   "execution_count": null,
   "metadata": {},
   "outputs": [],
   "source": []
  }
 ],
 "metadata": {
  "kernelspec": {
   "display_name": "Python 3",
   "language": "python",
   "name": "python3"
  },
  "language_info": {
   "codemirror_mode": {
    "name": "ipython",
    "version": 3
   },
   "file_extension": ".py",
   "mimetype": "text/x-python",
   "name": "python",
   "nbconvert_exporter": "python",
   "pygments_lexer": "ipython3",
   "version": "3.6.7"
  }
 },
 "nbformat": 4,
 "nbformat_minor": 4
}
